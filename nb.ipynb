{
 "cells": [
  {
   "cell_type": "code",
   "execution_count": 1,
   "metadata": {},
   "outputs": [],
   "source": [
    "import google.generativeai as genai\n",
    "from PIL import Image\n",
    "import os\n",
    "from dotenv import load_dotenv"
   ]
  },
  {
   "cell_type": "code",
   "execution_count": 2,
   "metadata": {},
   "outputs": [],
   "source": [
    "load_dotenv()\n",
    "api_key = os.getenv(\"GOOGLE_API_KEY\")\n",
    "genai.configure(api_key=api_key)\n",
    "model = genai.GenerativeModel('gemini-1.5-flash')"
   ]
  },
  {
   "cell_type": "code",
   "execution_count": 3,
   "metadata": {},
   "outputs": [],
   "source": [
    "STORY_PROMPT = \"\"\"\n",
    "Analyze this image in detail and create a short story based on what you see. \n",
    "Consider the setting, characters, mood, and any actions or events depicted. \n",
    "The story should be creative, engaging, and directly inspired by the elements in the image.\n",
    "Aim for a story of about 200-300 words.\n",
    "\"\"\""
   ]
  },
  {
   "cell_type": "code",
   "execution_count": 4,
   "metadata": {},
   "outputs": [],
   "source": [
    "def generate_story_from_image(image, prompt):\n",
    "    response = model.generate_content([prompt, image])\n",
    "    return response.text\n"
   ]
  },
  {
   "cell_type": "code",
   "execution_count": 5,
   "metadata": {},
   "outputs": [],
   "source": [
    "image_path = \"pic.jpg\""
   ]
  },
  {
   "cell_type": "code",
   "execution_count": 12,
   "metadata": {},
   "outputs": [
    {
     "name": "stdout",
     "output_type": "stream",
     "text": [
      "\n",
      "Generated Story:\n",
      "\n",
      "The air hung heavy with the scent of rain-soaked earth as Arun stood before the imposing brick building.  It was the administrative block of the university, a place where dreams were forged and futures charted.  Arun, however, felt a knot of anxiety in his stomach.  He was about to embark on a journey that promised both exhilaration and uncertainty.\n",
      "\n",
      "The worn-out, navy blue shirt he wore felt like a second skin, a familiar comfort in the face of the unknown.  His glasses, perched precariously on the bridge of his nose, seemed to magnify the weight of his decision.  He could almost hear the whispers of doubt – could he handle the pressure? Would he be able to keep up?  \n",
      "\n",
      "Taking a deep breath, he pushed the doubts aside.  He had worked hard for this opportunity, and he was not going to let fear hold him back.  His gaze fell upon a golden statue, a symbol of knowledge and ambition.  He knew, deep down, that he was ready to face whatever came next.  The university had opened its doors, and he was ready to walk through them.  \n",
      "\n"
     ]
    }
   ],
   "source": [
    "if os.path.exists(image_path):\n",
    "    with Image.open(image_path) as image:\n",
    "        story = generate_story_from_image(image, STORY_PROMPT)\n",
    "        print(\"\\nGenerated Story:\\n\")\n",
    "        print(story)\n",
    "else:\n",
    "    print(\"Invalid file path.\")"
   ]
  },
  {
   "cell_type": "code",
   "execution_count": null,
   "metadata": {},
   "outputs": [],
   "source": []
  }
 ],
 "metadata": {
  "kernelspec": {
   "display_name": "Python 3",
   "language": "python",
   "name": "python3"
  },
  "language_info": {
   "codemirror_mode": {
    "name": "ipython",
    "version": 3
   },
   "file_extension": ".py",
   "mimetype": "text/x-python",
   "name": "python",
   "nbconvert_exporter": "python",
   "pygments_lexer": "ipython3",
   "version": "3.10.12"
  }
 },
 "nbformat": 4,
 "nbformat_minor": 2
}
